{
  "nbformat": 4,
  "nbformat_minor": 0,
  "metadata": {
    "colab": {
      "name": "「7_18」的副本",
      "provenance": [],
      "collapsed_sections": []
    },
    "kernelspec": {
      "name": "python3",
      "display_name": "Python 3"
    },
    "language_info": {
      "name": "python"
    }
  },
  "cells": [
    {
      "cell_type": "code",
      "source": [
        "print(\"good weather\")"
      ],
      "metadata": {
        "colab": {
          "base_uri": "https://localhost:8080/"
        },
        "id": "sBWoFIc6IGyN",
        "outputId": "85ed2286-87b0-4518-a136-b641ecbf56c4"
      },
      "execution_count": null,
      "outputs": [
        {
          "output_type": "stream",
          "name": "stdout",
          "text": [
            "good weather\n"
          ]
        }
      ]
    },
    {
      "cell_type": "markdown",
      "source": [
        "### *新增區段*"
      ],
      "metadata": {
        "id": "9_p5v-FQIPIq"
      }
    },
    {
      "cell_type": "code",
      "source": [
        "b=3.14 \n",
        "print(b**100)"
      ],
      "metadata": {
        "colab": {
          "base_uri": "https://localhost:8080/"
        },
        "id": "BhB_w6niI5v0",
        "outputId": "2c87c7d7-baf7-41ee-ce97-3420f4182689"
      },
      "execution_count": null,
      "outputs": [
        {
          "output_type": "stream",
          "name": "stdout",
          "text": [
            "4.931338416605635e+49\n"
          ]
        }
      ]
    },
    {
      "cell_type": "code",
      "source": [
        "x=2\n",
        "y=-1\n",
        "z=x>3 and y<0\n",
        "u=x>3 or y<0\n",
        "print(z)\n",
        "print(u)"
      ],
      "metadata": {
        "colab": {
          "base_uri": "https://localhost:8080/"
        },
        "id": "sB5XLVxeKIQY",
        "outputId": "0e44c0de-2fdc-437a-e45e-5d710e7320db"
      },
      "execution_count": null,
      "outputs": [
        {
          "output_type": "stream",
          "name": "stdout",
          "text": [
            "False\n",
            "True\n"
          ]
        }
      ]
    },
    {
      "cell_type": "code",
      "source": [
        "a=[5,12,3]\n",
        "print(max(a))\n",
        "a.sort()\n",
        "print(a)"
      ],
      "metadata": {
        "colab": {
          "base_uri": "https://localhost:8080/"
        },
        "id": "J-Z0RwpOLSPZ",
        "outputId": "bffe9bab-eff0-4b16-ca7d-28434109492a"
      },
      "execution_count": null,
      "outputs": [
        {
          "output_type": "stream",
          "name": "stdout",
          "text": [
            "12\n",
            "[3, 5, 12]\n"
          ]
        }
      ]
    },
    {
      "cell_type": "code",
      "source": [
        "!pip install twstock\n",
        "import twstock as d\n",
        "e=d.Stock(\"3008\")\n"
      ],
      "metadata": {
        "colab": {
          "base_uri": "https://localhost:8080/"
        },
        "id": "4jx-CEK9MoYF",
        "outputId": "93a13220-adc4-4594-ecfa-6505ffb987df"
      },
      "execution_count": null,
      "outputs": [
        {
          "output_type": "stream",
          "name": "stdout",
          "text": [
            "Looking in indexes: https://pypi.org/simple, https://us-python.pkg.dev/colab-wheels/public/simple/\n",
            "Collecting twstock\n",
            "  Downloading twstock-1.3.1-py3-none-any.whl (1.9 MB)\n",
            "\u001b[K     |████████████████████████████████| 1.9 MB 5.1 MB/s \n",
            "\u001b[?25hRequirement already satisfied: requests in /usr/local/lib/python3.7/dist-packages (from twstock) (2.23.0)\n",
            "Requirement already satisfied: urllib3!=1.25.0,!=1.25.1,<1.26,>=1.21.1 in /usr/local/lib/python3.7/dist-packages (from requests->twstock) (1.24.3)\n",
            "Requirement already satisfied: certifi>=2017.4.17 in /usr/local/lib/python3.7/dist-packages (from requests->twstock) (2022.6.15)\n",
            "Requirement already satisfied: chardet<4,>=3.0.2 in /usr/local/lib/python3.7/dist-packages (from requests->twstock) (3.0.4)\n",
            "Requirement already satisfied: idna<3,>=2.5 in /usr/local/lib/python3.7/dist-packages (from requests->twstock) (2.10)\n",
            "Installing collected packages: twstock\n",
            "Successfully installed twstock-1.3.1\n"
          ]
        }
      ]
    },
    {
      "cell_type": "code",
      "source": [
        "a=\"a string\"\n",
        "b=1\n",
        "c=3.3\n",
        "d=True\n",
        "e=[1,2,3]"
      ],
      "metadata": {
        "id": "pvpGawMJOasu"
      },
      "execution_count": null,
      "outputs": []
    },
    {
      "cell_type": "code",
      "source": [
        "type(a) "
      ],
      "metadata": {
        "colab": {
          "base_uri": "https://localhost:8080/"
        },
        "id": "FU1c_36APLEP",
        "outputId": "5a89c9f5-1033-4964-90a5-b0aab1d9a1d9"
      },
      "execution_count": null,
      "outputs": [
        {
          "output_type": "execute_result",
          "data": {
            "text/plain": [
              "str"
            ]
          },
          "metadata": {},
          "execution_count": 15
        }
      ]
    },
    {
      "cell_type": "code",
      "source": [
        "type(b)"
      ],
      "metadata": {
        "colab": {
          "base_uri": "https://localhost:8080/"
        },
        "id": "iGxY8BOUPmoY",
        "outputId": "7be12a46-df7a-4cc5-85a4-ebb3a909747b"
      },
      "execution_count": null,
      "outputs": [
        {
          "output_type": "execute_result",
          "data": {
            "text/plain": [
              "int"
            ]
          },
          "metadata": {},
          "execution_count": 17
        }
      ]
    },
    {
      "cell_type": "code",
      "source": [
        "type(c)"
      ],
      "metadata": {
        "colab": {
          "base_uri": "https://localhost:8080/"
        },
        "id": "djTgwfnRQAfV",
        "outputId": "da9ecb82-59ab-4067-96e9-cfbb5a610e7f"
      },
      "execution_count": null,
      "outputs": [
        {
          "output_type": "execute_result",
          "data": {
            "text/plain": [
              "float"
            ]
          },
          "metadata": {},
          "execution_count": 18
        }
      ]
    },
    {
      "cell_type": "code",
      "source": [
        "type(e)"
      ],
      "metadata": {
        "colab": {
          "base_uri": "https://localhost:8080/"
        },
        "id": "WOR5oZjoQHLI",
        "outputId": "c87dae23-c387-4c9b-bdc5-eda3e0a14f0f"
      },
      "execution_count": null,
      "outputs": [
        {
          "output_type": "execute_result",
          "data": {
            "text/plain": [
              "list"
            ]
          },
          "metadata": {},
          "execution_count": 19
        }
      ]
    },
    {
      "cell_type": "code",
      "source": [
        "a=\"Hello\"\n",
        "b=\"World\"\n",
        "print(a,b,sep=\"|\")"
      ],
      "metadata": {
        "colab": {
          "base_uri": "https://localhost:8080/"
        },
        "id": "01aLJuZ8QUwy",
        "outputId": "89c39c55-6af6-4f16-afd6-78fc496aebbd"
      },
      "execution_count": null,
      "outputs": [
        {
          "output_type": "stream",
          "name": "stdout",
          "text": [
            "Hello|World\n"
          ]
        }
      ]
    },
    {
      "cell_type": "code",
      "source": [
        "a=\"Hello\"\n",
        "b=\"World\"\n",
        "print(a,end=\"\\n\")\n",
        "print(b,end=\".\")"
      ],
      "metadata": {
        "colab": {
          "base_uri": "https://localhost:8080/"
        },
        "id": "RH6jwyiAQ5et",
        "outputId": "54ec875d-308c-45ee-ff0a-f531dfbb7804"
      },
      "execution_count": null,
      "outputs": [
        {
          "output_type": "stream",
          "name": "stdout",
          "text": [
            "Hello\n",
            "World."
          ]
        }
      ]
    },
    {
      "cell_type": "code",
      "source": [
        "a=\"apple\"\n",
        "b=\"banana\"\n",
        "c=\"cherry\"\n",
        "d=\"dragon fruit\"\n",
        "print(a,b,c,d,sep=\",\",end=\".\")"
      ],
      "metadata": {
        "colab": {
          "base_uri": "https://localhost:8080/"
        },
        "id": "lNXryKQ8RQAW",
        "outputId": "96077b87-e9d5-4dc4-9eb3-0e3e80a274ca"
      },
      "execution_count": null,
      "outputs": [
        {
          "output_type": "stream",
          "name": "stdout",
          "text": [
            "apple,banana,cherry,dragon fruit."
          ]
        }
      ]
    },
    {
      "cell_type": "code",
      "source": [
        "name=input(\"Enter your name:\")\n",
        "print(\"Hello\",name)"
      ],
      "metadata": {
        "colab": {
          "base_uri": "https://localhost:8080/"
        },
        "id": "aGvmTmQPR8rQ",
        "outputId": "5d8eac70-0c9e-4833-ecca-698f3572f06a"
      },
      "execution_count": null,
      "outputs": [
        {
          "output_type": "stream",
          "name": "stdout",
          "text": [
            "Enter your name:mmmmm\n",
            "Hello mmmmm\n"
          ]
        }
      ]
    },
    {
      "cell_type": "code",
      "source": [
        "a=3+3\n",
        "#a=a+3 = a+=3\n",
        "b=3-3\n",
        "c=3*3\n",
        "d=3/3\n",
        "print(a,end=\"\\n\")\n",
        "print(b,end=\"\\n\")\n",
        "print(c,end=\"\\n\")\n",
        "print(d,end=\"\\n\")"
      ],
      "metadata": {
        "colab": {
          "base_uri": "https://localhost:8080/"
        },
        "id": "4CCacWNvSveN",
        "outputId": "c8abeecc-85b7-49e2-8678-153a12eddcc1"
      },
      "execution_count": null,
      "outputs": [
        {
          "output_type": "stream",
          "name": "stdout",
          "text": [
            "6\n",
            "0\n",
            "9\n",
            "1.0\n"
          ]
        }
      ]
    },
    {
      "cell_type": "code",
      "source": [
        "e=9%6\n",
        "#e為9除以6的餘數\n",
        "f=28//6\n",
        "#f為28除以6的整數\n",
        "print(\"e=\",e,end=\"\\n\")\n",
        "print(\"f=\",f,end=\"\\n\")"
      ],
      "metadata": {
        "colab": {
          "base_uri": "https://localhost:8080/"
        },
        "id": "45L7q1J5T_Ra",
        "outputId": "01276a56-6e85-4bd4-b006-466834298965"
      },
      "execution_count": null,
      "outputs": [
        {
          "output_type": "stream",
          "name": "stdout",
          "text": [
            "e= 3\n",
            "f= 4\n"
          ]
        }
      ]
    },
    {
      "cell_type": "code",
      "source": [
        "apple=6\n",
        "banana=5\n",
        "ans=apple==banana\n",
        "print(ans)"
      ],
      "metadata": {
        "colab": {
          "base_uri": "https://localhost:8080/"
        },
        "id": "7BEdrFsFU8n0",
        "outputId": "de878635-1889-4686-b79d-3b972a5fc735"
      },
      "execution_count": null,
      "outputs": [
        {
          "output_type": "stream",
          "name": "stdout",
          "text": [
            "False\n"
          ]
        }
      ]
    },
    {
      "cell_type": "code",
      "source": [
        "%pylab inline\n",
        "#pylab=python套件(可繪圖) inline=把套件掛進 %ioad=讀取文件內容"
      ],
      "metadata": {
        "colab": {
          "base_uri": "https://localhost:8080/"
        },
        "id": "9lfzcocnVJKQ",
        "outputId": "49e8695e-48a7-4927-dd34-c3c7de61aa7a"
      },
      "execution_count": null,
      "outputs": [
        {
          "output_type": "stream",
          "name": "stdout",
          "text": [
            "Populating the interactive namespace from numpy and matplotlib\n"
          ]
        },
        {
          "output_type": "stream",
          "name": "stderr",
          "text": [
            "/usr/local/lib/python3.7/dist-packages/IPython/core/magics/pylab.py:161: UserWarning: pylab import has clobbered these variables: ['f', 'e']\n",
            "`%matplotlib` prevents importing * from pylab and numpy\n",
            "  \"\\n`%matplotlib` prevents importing * from pylab and numpy\"\n"
          ]
        }
      ]
    },
    {
      "cell_type": "code",
      "source": [
        "pi\n"
      ],
      "metadata": {
        "colab": {
          "base_uri": "https://localhost:8080/"
        },
        "id": "0YUI1yzkVtpN",
        "outputId": "4f493c87-7e35-4164-9cd0-af9f47801a5d"
      },
      "execution_count": null,
      "outputs": [
        {
          "output_type": "execute_result",
          "data": {
            "text/plain": [
              "3.141592653589793"
            ]
          },
          "metadata": {},
          "execution_count": 30
        }
      ]
    },
    {
      "cell_type": "code",
      "source": [
        "sin(pi)"
      ],
      "metadata": {
        "colab": {
          "base_uri": "https://localhost:8080/"
        },
        "id": "8S0OrD_8VySo",
        "outputId": "86f39638-8d5f-4a42-cafc-305597b27e87"
      },
      "execution_count": null,
      "outputs": [
        {
          "output_type": "execute_result",
          "data": {
            "text/plain": [
              "1.2246467991473532e-16"
            ]
          },
          "metadata": {},
          "execution_count": 32
        }
      ]
    },
    {
      "cell_type": "code",
      "source": [
        "%pylab inline \n",
        "plot([-2,10,3,13,5])\n",
        "#畫(0,2)(1,10)(2,3)(3,13)(4,5) x不用標"
      ],
      "metadata": {
        "colab": {
          "base_uri": "https://localhost:8080/",
          "height": 300
        },
        "id": "ywvyl1oPV0Ss",
        "outputId": "63bc0bf2-8c52-4b05-a3da-8ea4dc3fb4a6"
      },
      "execution_count": null,
      "outputs": [
        {
          "output_type": "stream",
          "name": "stdout",
          "text": [
            "Populating the interactive namespace from numpy and matplotlib\n"
          ]
        },
        {
          "output_type": "execute_result",
          "data": {
            "text/plain": [
              "[<matplotlib.lines.Line2D at 0x7fcf7c202750>]"
            ]
          },
          "metadata": {},
          "execution_count": 37
        },
        {
          "output_type": "display_data",
          "data": {
            "text/plain": [
              "<Figure size 432x288 with 1 Axes>"
            ],
            "image/png": "[encoded data removed]"
          },
          "metadata": {
            "needs_background": "light"
          }
        }
      ]
    },
    {
      "cell_type": "code",
      "source": [
        "%pylab inline \n",
        "plot([-2,1,0,3],[3,5,-1,8])\n",
        "#畫(-2,3)(1,5)(0,-1)(3,8) x要標"
      ],
      "metadata": {
        "colab": {
          "base_uri": "https://localhost:8080/",
          "height": 300
        },
        "id": "Byltw3eHXgnn",
        "outputId": "7e93bf55-3390-452d-a066-a4dc0b51fb98"
      },
      "execution_count": null,
      "outputs": [
        {
          "output_type": "stream",
          "name": "stdout",
          "text": [
            "Populating the interactive namespace from numpy and matplotlib\n"
          ]
        },
        {
          "output_type": "execute_result",
          "data": {
            "text/plain": [
              "[<matplotlib.lines.Line2D at 0x7fcf7c1b9190>]"
            ]
          },
          "metadata": {},
          "execution_count": 39
        },
        {
          "output_type": "display_data",
          "data": {
            "text/plain": [
              "<Figure size 432x288 with 1 Axes>"
            ],
            "image/png": "[encoded data removed]"
          },
          "metadata": {
            "needs_background": "light"
          }
        }
      ]
    },
    {
      "cell_type": "code",
      "source": [
        "a=44\n",
        "print(a*3)\n",
        "print(a**3)"
      ],
      "metadata": {
        "colab": {
          "base_uri": "https://localhost:8080/"
        },
        "id": "pHgkaS_oX9Cx",
        "outputId": "a7393c8b-f64e-4a32-8cd4-1d2469fc96a5"
      },
      "execution_count": null,
      "outputs": [
        {
          "output_type": "stream",
          "name": "stdout",
          "text": [
            "132\n"
          ]
        }
      ]
    },
    {
      "cell_type": "code",
      "source": [
        "a=4\n",
        "a+=3\n",
        "print(a)"
      ],
      "metadata": {
        "colab": {
          "base_uri": "https://localhost:8080/"
        },
        "id": "PRvXpAqTY5uN",
        "outputId": "1b05fc84-ffe7-4532-8114-2c7149ed4deb"
      },
      "execution_count": null,
      "outputs": [
        {
          "output_type": "stream",
          "name": "stdout",
          "text": [
            "7\n"
          ]
        }
      ]
    },
    {
      "cell_type": "code",
      "source": [
        "g=4**2\n",
        "h=4**3\n",
        "print(\"g=\",g,end=\"\\n\")\n",
        "print(\"h=\",h,end=\"\\n\")"
      ],
      "metadata": {
        "colab": {
          "base_uri": "https://localhost:8080/"
        },
        "id": "aBykF-VsZnHX",
        "outputId": "b0410a4d-947a-4218-ff3f-7b0acba9fbe6"
      },
      "execution_count": null,
      "outputs": [
        {
          "output_type": "stream",
          "name": "stdout",
          "text": [
            "g= 16\n",
            "h= 64\n"
          ]
        }
      ]
    },
    {
      "cell_type": "code",
      "source": [
        "import numpy as np\n",
        "#把numpy倒近來ㄇ\n",
        "from numpy import sin\n",
        "#只匯入numpy的sin\n",
        "from numpy import *\n",
        "#"
      ],
      "metadata": {
        "id": "nENhQouMsQzC"
      },
      "execution_count": null,
      "outputs": []
    },
    {
      "cell_type": "code",
      "source": [
        "a=list(range(2,19,2))\n",
        "print(a)"
      ],
      "metadata": {
        "colab": {
          "base_uri": "https://localhost:8080/"
        },
        "id": "NMds62r4t4PZ",
        "outputId": "e27b74e4-c3bc-4933-ed3c-422434b98d47"
      },
      "execution_count": null,
      "outputs": [
        {
          "output_type": "stream",
          "name": "stdout",
          "text": [
            "[2, 4, 6, 8, 10, 12, 14, 16, 18]\n"
          ]
        }
      ]
    },
    {
      "cell_type": "code",
      "source": [
        "b=[x**2 for x in range(1,11)]\n",
        "print(b)"
      ],
      "metadata": {
        "colab": {
          "base_uri": "https://localhost:8080/"
        },
        "id": "qcUlHV3huNqs",
        "outputId": "e0a0ab8a-590e-4884-a30c-8e6cbeb4eb22"
      },
      "execution_count": null,
      "outputs": [
        {
          "output_type": "stream",
          "name": "stdout",
          "text": [
            "[1, 4, 9, 16, 25, 36, 49, 64, 81, 100]\n"
          ]
        }
      ]
    },
    {
      "cell_type": "code",
      "source": [
        "from numpy.random import *\n",
        "for i in range(50):\n",
        "  print(randint(1,10),end=\",\")"
      ],
      "metadata": {
        "colab": {
          "base_uri": "https://localhost:8080/"
        },
        "id": "lEfbO5xjwHPs",
        "outputId": "cd607dd3-9810-4f48-d80b-a792bff0411f"
      },
      "execution_count": null,
      "outputs": [
        {
          "output_type": "stream",
          "name": "stdout",
          "text": [
            "2,6,2,7,2,4,8,3,3,5,3,5,6,6,8,2,2,8,8,4,4,8,8,4,2,4,3,7,6,3,1,4,8,8,8,3,1,9,8,6,5,9,3,2,9,1,6,6,2,1,"
          ]
        }
      ]
    },
    {
      "cell_type": "code",
      "source": [
        "score=int(input(\"enter your score\"))\n",
        "if score==100:\n",
        " print(\"outstanding\")\n",
        "elif score>=90:\n",
        " print(\"excellent\")\n",
        "elif score>=80:\n",
        " print(\"great\")\n",
        "elif score>=70:\n",
        " print(\"well\")\n",
        "elif score>=60:\n",
        " print(\"good\")\n",
        "elif score<60:\n",
        " print(\"bad\")\n",
        "else:\n",
        "  "
      ],
      "metadata": {
        "colab": {
          "base_uri": "https://localhost:8080/"
        },
        "id": "1f6_GyHJxebT",
        "outputId": "a276c8f7-a172-4f0d-ac00-14e2f5da06fd"
      },
      "execution_count": null,
      "outputs": [
        {
          "output_type": "stream",
          "name": "stdout",
          "text": [
            "enter your score110\n",
            "excellent\n"
          ]
        }
      ]
    },
    {
      "cell_type": "code",
      "source": [
        "age=int(input(\"How old are you?\"))\n",
        "hasAdult=input(\"Do you have adult with you? has enter Ture ,hasn't enter False\")\n",
        "if(age>=12)or(age>=6 and hasAdult):\n",
        "  print(\"you can watch the moive\")"
      ],
      "metadata": {
        "colab": {
          "base_uri": "https://localhost:8080/"
        },
        "id": "bRsAVHa2zOgO",
        "outputId": "e7f10ee6-4537-4c89-a8f4-7e7dc31fff7b"
      },
      "execution_count": null,
      "outputs": [
        {
          "name": "stdout",
          "output_type": "stream",
          "text": [
            "How old are you?4\n",
            "Do you have adult with you? has enter Ture ,hasn't enter FalseFalse\n"
          ]
        }
      ]
    },
    {
      "cell_type": "code",
      "source": [
        "students=[\"Alice\",\"Bob\",\"Cindy\",\"Daisy\",\"Eve\"]\n",
        "for st in students:\n",
        "  print(st,end=\",\")"
      ],
      "metadata": {
        "colab": {
          "base_uri": "https://localhost:8080/"
        },
        "id": "H6fu2sZF09nZ",
        "outputId": "d22d2940-1e43-4329-c581-11e7c4c27afd"
      },
      "execution_count": null,
      "outputs": [
        {
          "output_type": "stream",
          "name": "stdout",
          "text": [
            "Alice,Bob,Cindy,Daisy,Eve,"
          ]
        }
      ]
    },
    {
      "cell_type": "code",
      "source": [
        "for i in range(33):\n",
        "  print(i,end=\",\")"
      ],
      "metadata": {
        "colab": {
          "base_uri": "https://localhost:8080/"
        },
        "id": "0cCj-is-2SY9",
        "outputId": "7e75f44b-89a5-4c25-92b0-db1ea71a8718"
      },
      "execution_count": null,
      "outputs": [
        {
          "output_type": "stream",
          "name": "stdout",
          "text": [
            "0\n",
            "1\n",
            "2\n",
            "3\n",
            "4\n",
            "5\n",
            "6\n",
            "7\n",
            "8\n",
            "9\n",
            "10\n",
            "11\n",
            "12\n",
            "13\n",
            "14\n",
            "15\n",
            "16\n",
            "17\n",
            "18\n",
            "19\n",
            "20\n",
            "21\n",
            "22\n",
            "23\n",
            "24\n",
            "25\n",
            "26\n",
            "27\n",
            "28\n",
            "29\n",
            "30\n",
            "31\n",
            "32\n"
          ]
        }
      ]
    },
    {
      "cell_type": "code",
      "source": [
        "for i in range(3,7):\n",
        "  print(i,end=\",\")"
      ],
      "metadata": {
        "colab": {
          "base_uri": "https://localhost:8080/"
        },
        "id": "pPy9dbRP3d7X",
        "outputId": "39ebdc08-3985-47e4-8327-5bb0ed89ba7e"
      },
      "execution_count": null,
      "outputs": [
        {
          "output_type": "stream",
          "name": "stdout",
          "text": [
            "3,4,5,6,"
          ]
        }
      ]
    },
    {
      "cell_type": "code",
      "source": [
        "for i in range(4,16,3):\n",
        "  print(i,end=\",\")"
      ],
      "metadata": {
        "colab": {
          "base_uri": "https://localhost:8080/"
        },
        "id": "hpQ9EofF38H_",
        "outputId": "2fa17766-0ba4-4994-c0f4-af5854976436"
      },
      "execution_count": null,
      "outputs": [
        {
          "output_type": "stream",
          "name": "stdout",
          "text": [
            "4,7,10,13,"
          ]
        }
      ]
    },
    {
      "cell_type": "code",
      "source": [
        "a=list(range(11))\n",
        "#列出0到10\n",
        "print(a)"
      ],
      "metadata": {
        "colab": {
          "base_uri": "https://localhost:8080/"
        },
        "id": "CL45xYM04t2O",
        "outputId": "f8740400-e1b5-4235-bf94-13749e39a425"
      },
      "execution_count": null,
      "outputs": [
        {
          "output_type": "stream",
          "name": "stdout",
          "text": [
            "[0, 1, 2, 3, 4, 5, 6, 7, 8, 9, 10]\n"
          ]
        }
      ]
    },
    {
      "cell_type": "code",
      "source": [
        "for i in range(5):\n",
        "  print(\"the\",i,\"I love you\")"
      ],
      "metadata": {
        "colab": {
          "base_uri": "https://localhost:8080/"
        },
        "id": "Si9c2MBc5LdB",
        "outputId": "496896e6-a75d-49fa-b683-760f8cbabe50"
      },
      "execution_count": null,
      "outputs": [
        {
          "output_type": "stream",
          "name": "stdout",
          "text": [
            "the 0 I love you\n",
            "the 1 I love you\n",
            "the 2 I love you\n",
            "the 3 I love you\n",
            "the 4 I love you\n"
          ]
        }
      ]
    },
    {
      "cell_type": "code",
      "source": [
        "friends=[\"mocha\",\"mouse beer\"]\n",
        "for fr in friends:\n",
        "  print(\"Hi,\",fr)"
      ],
      "metadata": {
        "colab": {
          "base_uri": "https://localhost:8080/"
        },
        "id": "I1ZHNpTe5zMD",
        "outputId": "dd8436db-6439-4fd0-8bd9-9daf1c7f30f2"
      },
      "execution_count": null,
      "outputs": [
        {
          "output_type": "stream",
          "name": "stdout",
          "text": [
            "Hi, mocha\n",
            "Hi, mouse beer\n"
          ]
        }
      ]
    },
    {
      "cell_type": "code",
      "source": [
        "ST=[\"Alice\",\"Bob\",\"Cindy\",\"Eve\"]\n",
        "#列出\n",
        "CC=[100,58,75,82]\n",
        "STp=len(ST)\n",
        "for score in range(STp):\n",
        "  if CC[score]==100:\n",
        "      print(ST[score],CC[score],\"分\",\"特優特優\")\n",
        "  elif CC[score]>=80:\n",
        "      print(ST[score],CC[score],\"分\",\"還行還行\")\n",
        "  else:\n",
        "      print(ST[score],CC[score],\"分\",\"用功點\")"
      ],
      "metadata": {
        "colab": {
          "base_uri": "https://localhost:8080/"
        },
        "id": "nu9QT27l6hjc",
        "outputId": "644c9765-af4c-4cf2-f892-34741462d291"
      },
      "execution_count": null,
      "outputs": [
        {
          "output_type": "stream",
          "name": "stdout",
          "text": [
            "Alice 100 分 特優特優\n",
            "Bob 58 分 用功點\n",
            "Cindy 75 分 用功點\n",
            "Eve 82 分 還行還行\n"
          ]
        }
      ]
    },
    {
      "cell_type": "code",
      "source": [
        "number=30\n",
        "while number>=0:\n",
        "  print(number,end=\",\")\n",
        "  number-=1\n",
        "print(\"time over\")  "
      ],
      "metadata": {
        "colab": {
          "base_uri": "https://localhost:8080/"
        },
        "id": "4ClE9PO5-Qlr",
        "outputId": "fedc73b2-b946-46f6-a1b7-b9ccd57e9e05"
      },
      "execution_count": null,
      "outputs": [
        {
          "output_type": "stream",
          "name": "stdout",
          "text": [
            "30,29,28,27,26,25,24,23,22,21,20,19,18,17,16,15,14,13,12,11,10,9,8,7,6,5,4,3,2,1,0,time over\n"
          ]
        }
      ]
    },
    {
      "cell_type": "code",
      "source": [
        "ans=0\n",
        "#紀錄最後答案\n",
        "num=1\n",
        "#記錄下個要加的\n",
        "while num <=1000:\n",
        "  ans+=num\n",
        "  num+=1\n",
        "  print(ans)"
      ],
      "metadata": {
        "colab": {
          "base_uri": "https://localhost:8080/"
        },
        "id": "NhJzjp0L_8WS",
        "outputId": "3c19ed61-fec9-4e1d-8292-8b3a29f06d3f"
      },
      "execution_count": null,
      "outputs": [
        {
          "output_type": "stream",
          "name": "stdout",
          "text": [
            "1\n",
            "3\n",
            "6\n",
            "10\n",
            "15\n",
            "21\n",
            "28\n",
            "36\n",
            "45\n",
            "55\n",
            "66\n",
            "78\n",
            "91\n",
            "105\n",
            "120\n",
            "136\n",
            "153\n",
            "171\n",
            "190\n",
            "210\n",
            "231\n",
            "253\n",
            "276\n",
            "300\n",
            "325\n",
            "351\n",
            "378\n",
            "406\n",
            "435\n",
            "465\n",
            "496\n",
            "528\n",
            "561\n",
            "595\n",
            "630\n",
            "666\n",
            "703\n",
            "741\n",
            "780\n",
            "820\n",
            "861\n",
            "903\n",
            "946\n",
            "990\n",
            "1035\n",
            "1081\n",
            "1128\n",
            "1176\n",
            "1225\n",
            "1275\n",
            "1326\n",
            "1378\n",
            "1431\n",
            "1485\n",
            "1540\n",
            "1596\n",
            "1653\n",
            "1711\n",
            "1770\n",
            "1830\n",
            "1891\n",
            "1953\n",
            "2016\n",
            "2080\n",
            "2145\n",
            "2211\n",
            "2278\n",
            "2346\n",
            "2415\n",
            "2485\n",
            "2556\n",
            "2628\n",
            "2701\n",
            "2775\n",
            "2850\n",
            "2926\n",
            "3003\n",
            "3081\n",
            "3160\n",
            "3240\n",
            "3321\n",
            "3403\n",
            "3486\n",
            "3570\n",
            "3655\n",
            "3741\n",
            "3828\n",
            "3916\n",
            "4005\n",
            "4095\n",
            "4186\n",
            "4278\n",
            "4371\n",
            "4465\n",
            "4560\n",
            "4656\n",
            "4753\n",
            "4851\n",
            "4950\n",
            "5050\n",
            "5151\n",
            "5253\n",
            "5356\n",
            "5460\n",
            "5565\n",
            "5671\n",
            "5778\n",
            "5886\n",
            "5995\n",
            "6105\n",
            "6216\n",
            "6328\n",
            "6441\n",
            "6555\n",
            "6670\n",
            "6786\n",
            "6903\n",
            "7021\n",
            "7140\n",
            "7260\n",
            "7381\n",
            "7503\n",
            "7626\n",
            "7750\n",
            "7875\n",
            "8001\n",
            "8128\n",
            "8256\n",
            "8385\n",
            "8515\n",
            "8646\n",
            "8778\n",
            "8911\n",
            "9045\n",
            "9180\n",
            "9316\n",
            "9453\n",
            "9591\n",
            "9730\n",
            "9870\n",
            "10011\n",
            "10153\n",
            "10296\n",
            "10440\n",
            "10585\n",
            "10731\n",
            "10878\n",
            "11026\n",
            "11175\n",
            "11325\n",
            "11476\n",
            "11628\n",
            "11781\n",
            "11935\n",
            "12090\n",
            "12246\n",
            "12403\n",
            "12561\n",
            "12720\n",
            "12880\n",
            "13041\n",
            "13203\n",
            "13366\n",
            "13530\n",
            "13695\n",
            "13861\n",
            "14028\n",
            "14196\n",
            "14365\n",
            "14535\n",
            "14706\n",
            "14878\n",
            "15051\n",
            "15225\n",
            "15400\n",
            "15576\n",
            "15753\n",
            "15931\n",
            "16110\n",
            "16290\n",
            "16471\n",
            "16653\n",
            "16836\n",
            "17020\n",
            "17205\n",
            "17391\n",
            "17578\n",
            "17766\n",
            "17955\n",
            "18145\n",
            "18336\n",
            "18528\n",
            "18721\n",
            "18915\n",
            "19110\n",
            "19306\n",
            "19503\n",
            "19701\n",
            "19900\n",
            "20100\n",
            "20301\n",
            "20503\n",
            "20706\n",
            "20910\n",
            "21115\n",
            "21321\n",
            "21528\n",
            "21736\n",
            "21945\n",
            "22155\n",
            "22366\n",
            "22578\n",
            "22791\n",
            "23005\n",
            "23220\n",
            "23436\n",
            "23653\n",
            "23871\n",
            "24090\n",
            "24310\n",
            "24531\n",
            "24753\n",
            "24976\n",
            "25200\n",
            "25425\n",
            "25651\n",
            "25878\n",
            "26106\n",
            "26335\n",
            "26565\n",
            "26796\n",
            "27028\n",
            "27261\n",
            "27495\n",
            "27730\n",
            "27966\n",
            "28203\n",
            "28441\n",
            "28680\n",
            "28920\n",
            "29161\n",
            "29403\n",
            "29646\n",
            "29890\n",
            "30135\n",
            "30381\n",
            "30628\n",
            "30876\n",
            "31125\n",
            "31375\n",
            "31626\n",
            "31878\n",
            "32131\n",
            "32385\n",
            "32640\n",
            "32896\n",
            "33153\n",
            "33411\n",
            "33670\n",
            "33930\n",
            "34191\n",
            "34453\n",
            "34716\n",
            "34980\n",
            "35245\n",
            "35511\n",
            "35778\n",
            "36046\n",
            "36315\n",
            "36585\n",
            "36856\n",
            "37128\n",
            "37401\n",
            "37675\n",
            "37950\n",
            "38226\n",
            "38503\n",
            "38781\n",
            "39060\n",
            "39340\n",
            "39621\n",
            "39903\n",
            "40186\n",
            "40470\n",
            "40755\n",
            "41041\n",
            "41328\n",
            "41616\n",
            "41905\n",
            "42195\n",
            "42486\n",
            "42778\n",
            "43071\n",
            "43365\n",
            "43660\n",
            "43956\n",
            "44253\n",
            "44551\n",
            "44850\n",
            "45150\n",
            "45451\n",
            "45753\n",
            "46056\n",
            "46360\n",
            "46665\n",
            "46971\n",
            "47278\n",
            "47586\n",
            "47895\n",
            "48205\n",
            "48516\n",
            "48828\n",
            "49141\n",
            "49455\n",
            "49770\n",
            "50086\n",
            "50403\n",
            "50721\n",
            "51040\n",
            "51360\n",
            "51681\n",
            "52003\n",
            "52326\n",
            "52650\n",
            "52975\n",
            "53301\n",
            "53628\n",
            "53956\n",
            "54285\n",
            "54615\n",
            "54946\n",
            "55278\n",
            "55611\n",
            "55945\n",
            "56280\n",
            "56616\n",
            "56953\n",
            "57291\n",
            "57630\n",
            "57970\n",
            "58311\n",
            "58653\n",
            "58996\n",
            "59340\n",
            "59685\n",
            "60031\n",
            "60378\n",
            "60726\n",
            "61075\n",
            "61425\n",
            "61776\n",
            "62128\n",
            "62481\n",
            "62835\n",
            "63190\n",
            "63546\n",
            "63903\n",
            "64261\n",
            "64620\n",
            "64980\n",
            "65341\n",
            "65703\n",
            "66066\n",
            "66430\n",
            "66795\n",
            "67161\n",
            "67528\n",
            "67896\n",
            "68265\n",
            "68635\n",
            "69006\n",
            "69378\n",
            "69751\n",
            "70125\n",
            "70500\n",
            "70876\n",
            "71253\n",
            "71631\n",
            "72010\n",
            "72390\n",
            "72771\n",
            "73153\n",
            "73536\n",
            "73920\n",
            "74305\n",
            "74691\n",
            "75078\n",
            "75466\n",
            "75855\n",
            "76245\n",
            "76636\n",
            "77028\n",
            "77421\n",
            "77815\n",
            "78210\n",
            "78606\n",
            "79003\n",
            "79401\n",
            "79800\n",
            "80200\n",
            "80601\n",
            "81003\n",
            "81406\n",
            "81810\n",
            "82215\n",
            "82621\n",
            "83028\n",
            "83436\n",
            "83845\n",
            "84255\n",
            "84666\n",
            "85078\n",
            "85491\n",
            "85905\n",
            "86320\n",
            "86736\n",
            "87153\n",
            "87571\n",
            "87990\n",
            "88410\n",
            "88831\n",
            "89253\n",
            "89676\n",
            "90100\n",
            "90525\n",
            "90951\n",
            "91378\n",
            "91806\n",
            "92235\n",
            "92665\n",
            "93096\n",
            "93528\n",
            "93961\n",
            "94395\n",
            "94830\n",
            "95266\n",
            "95703\n",
            "96141\n",
            "96580\n",
            "97020\n",
            "97461\n",
            "97903\n",
            "98346\n",
            "98790\n",
            "99235\n",
            "99681\n",
            "100128\n",
            "100576\n",
            "101025\n",
            "101475\n",
            "101926\n",
            "102378\n",
            "102831\n",
            "103285\n",
            "103740\n",
            "104196\n",
            "104653\n",
            "105111\n",
            "105570\n",
            "106030\n",
            "106491\n",
            "106953\n",
            "107416\n",
            "107880\n",
            "108345\n",
            "108811\n",
            "109278\n",
            "109746\n",
            "110215\n",
            "110685\n",
            "111156\n",
            "111628\n",
            "112101\n",
            "112575\n",
            "113050\n",
            "113526\n",
            "114003\n",
            "114481\n",
            "114960\n",
            "115440\n",
            "115921\n",
            "116403\n",
            "116886\n",
            "117370\n",
            "117855\n",
            "118341\n",
            "118828\n",
            "119316\n",
            "119805\n",
            "120295\n",
            "120786\n",
            "121278\n",
            "121771\n",
            "122265\n",
            "122760\n",
            "123256\n",
            "123753\n",
            "124251\n",
            "124750\n",
            "125250\n",
            "125751\n",
            "126253\n",
            "126756\n",
            "127260\n",
            "127765\n",
            "128271\n",
            "128778\n",
            "129286\n",
            "129795\n",
            "130305\n",
            "130816\n",
            "131328\n",
            "131841\n",
            "132355\n",
            "132870\n",
            "133386\n",
            "133903\n",
            "134421\n",
            "134940\n",
            "135460\n",
            "135981\n",
            "136503\n",
            "137026\n",
            "137550\n",
            "138075\n",
            "138601\n",
            "139128\n",
            "139656\n",
            "140185\n",
            "140715\n",
            "141246\n",
            "141778\n",
            "142311\n",
            "142845\n",
            "143380\n",
            "143916\n",
            "144453\n",
            "144991\n",
            "145530\n",
            "146070\n",
            "146611\n",
            "147153\n",
            "147696\n",
            "148240\n",
            "148785\n",
            "149331\n",
            "149878\n",
            "150426\n",
            "150975\n",
            "151525\n",
            "152076\n",
            "152628\n",
            "153181\n",
            "153735\n",
            "154290\n",
            "154846\n",
            "155403\n",
            "155961\n",
            "156520\n",
            "157080\n",
            "157641\n",
            "158203\n",
            "158766\n",
            "159330\n",
            "159895\n",
            "160461\n",
            "161028\n",
            "161596\n",
            "162165\n",
            "162735\n",
            "163306\n",
            "163878\n",
            "164451\n",
            "165025\n",
            "165600\n",
            "166176\n",
            "166753\n",
            "167331\n",
            "167910\n",
            "168490\n",
            "169071\n",
            "169653\n",
            "170236\n",
            "170820\n",
            "171405\n",
            "171991\n",
            "172578\n",
            "173166\n",
            "173755\n",
            "174345\n",
            "174936\n",
            "175528\n",
            "176121\n",
            "176715\n",
            "177310\n",
            "177906\n",
            "178503\n",
            "179101\n",
            "179700\n",
            "180300\n",
            "180901\n",
            "181503\n",
            "182106\n",
            "182710\n",
            "183315\n",
            "183921\n",
            "184528\n",
            "185136\n",
            "185745\n",
            "186355\n",
            "186966\n",
            "187578\n",
            "188191\n",
            "188805\n",
            "189420\n",
            "190036\n",
            "190653\n",
            "191271\n",
            "191890\n",
            "192510\n",
            "193131\n",
            "193753\n",
            "194376\n",
            "195000\n",
            "195625\n",
            "196251\n",
            "196878\n",
            "197506\n",
            "198135\n",
            "198765\n",
            "199396\n",
            "200028\n",
            "200661\n",
            "201295\n",
            "201930\n",
            "202566\n",
            "203203\n",
            "203841\n",
            "204480\n",
            "205120\n",
            "205761\n",
            "206403\n",
            "207046\n",
            "207690\n",
            "208335\n",
            "208981\n",
            "209628\n",
            "210276\n",
            "210925\n",
            "211575\n",
            "212226\n",
            "212878\n",
            "213531\n",
            "214185\n",
            "214840\n",
            "215496\n",
            "216153\n",
            "216811\n",
            "217470\n",
            "218130\n",
            "218791\n",
            "219453\n",
            "220116\n",
            "220780\n",
            "221445\n",
            "222111\n",
            "222778\n",
            "223446\n",
            "224115\n",
            "224785\n",
            "225456\n",
            "226128\n",
            "226801\n",
            "227475\n",
            "228150\n",
            "228826\n",
            "229503\n",
            "230181\n",
            "230860\n",
            "231540\n",
            "232221\n",
            "232903\n",
            "233586\n",
            "234270\n",
            "234955\n",
            "235641\n",
            "236328\n",
            "237016\n",
            "237705\n",
            "238395\n",
            "239086\n",
            "239778\n",
            "240471\n",
            "241165\n",
            "241860\n",
            "242556\n",
            "243253\n",
            "243951\n",
            "244650\n",
            "245350\n",
            "246051\n",
            "246753\n",
            "247456\n",
            "248160\n",
            "248865\n",
            "249571\n",
            "250278\n",
            "250986\n",
            "251695\n",
            "252405\n",
            "253116\n",
            "253828\n",
            "254541\n",
            "255255\n",
            "255970\n",
            "256686\n",
            "257403\n",
            "258121\n",
            "258840\n",
            "259560\n",
            "260281\n",
            "261003\n",
            "261726\n",
            "262450\n",
            "263175\n",
            "263901\n",
            "264628\n",
            "265356\n",
            "266085\n",
            "266815\n",
            "267546\n",
            "268278\n",
            "269011\n",
            "269745\n",
            "270480\n",
            "271216\n",
            "271953\n",
            "272691\n",
            "273430\n",
            "274170\n",
            "274911\n",
            "275653\n",
            "276396\n",
            "277140\n",
            "277885\n",
            "278631\n",
            "279378\n",
            "280126\n",
            "280875\n",
            "281625\n",
            "282376\n",
            "283128\n",
            "283881\n",
            "284635\n",
            "285390\n",
            "286146\n",
            "286903\n",
            "287661\n",
            "288420\n",
            "289180\n",
            "289941\n",
            "290703\n",
            "291466\n",
            "292230\n",
            "292995\n",
            "293761\n",
            "294528\n",
            "295296\n",
            "296065\n",
            "296835\n",
            "297606\n",
            "298378\n",
            "299151\n",
            "299925\n",
            "300700\n",
            "301476\n",
            "302253\n",
            "303031\n",
            "303810\n",
            "304590\n",
            "305371\n",
            "306153\n",
            "306936\n",
            "307720\n",
            "308505\n",
            "309291\n",
            "310078\n",
            "310866\n",
            "311655\n",
            "312445\n",
            "313236\n",
            "314028\n",
            "314821\n",
            "315615\n",
            "316410\n",
            "317206\n",
            "318003\n",
            "318801\n",
            "319600\n",
            "320400\n",
            "321201\n",
            "322003\n",
            "322806\n",
            "323610\n",
            "324415\n",
            "325221\n",
            "326028\n",
            "326836\n",
            "327645\n",
            "328455\n",
            "329266\n",
            "330078\n",
            "330891\n",
            "331705\n",
            "332520\n",
            "333336\n",
            "334153\n",
            "334971\n",
            "335790\n",
            "336610\n",
            "337431\n",
            "338253\n",
            "339076\n",
            "339900\n",
            "340725\n",
            "341551\n",
            "342378\n",
            "343206\n",
            "344035\n",
            "344865\n",
            "345696\n",
            "346528\n",
            "347361\n",
            "348195\n",
            "349030\n",
            "349866\n",
            "350703\n",
            "351541\n",
            "352380\n",
            "353220\n",
            "354061\n",
            "354903\n",
            "355746\n",
            "356590\n",
            "357435\n",
            "358281\n",
            "359128\n",
            "359976\n",
            "360825\n",
            "361675\n",
            "362526\n",
            "363378\n",
            "364231\n",
            "365085\n",
            "365940\n",
            "366796\n",
            "367653\n",
            "368511\n",
            "369370\n",
            "370230\n",
            "371091\n",
            "371953\n",
            "372816\n",
            "373680\n",
            "374545\n",
            "375411\n",
            "376278\n",
            "377146\n",
            "378015\n",
            "378885\n",
            "379756\n",
            "380628\n",
            "381501\n",
            "382375\n",
            "383250\n",
            "384126\n",
            "385003\n",
            "385881\n",
            "386760\n",
            "387640\n",
            "388521\n",
            "389403\n",
            "390286\n",
            "391170\n",
            "392055\n",
            "392941\n",
            "393828\n",
            "394716\n",
            "395605\n",
            "396495\n",
            "397386\n",
            "398278\n",
            "399171\n",
            "400065\n",
            "400960\n",
            "401856\n",
            "402753\n",
            "403651\n",
            "404550\n",
            "405450\n",
            "406351\n",
            "407253\n",
            "408156\n",
            "409060\n",
            "409965\n",
            "410871\n",
            "411778\n",
            "412686\n",
            "413595\n",
            "414505\n",
            "415416\n",
            "416328\n",
            "417241\n",
            "418155\n",
            "419070\n",
            "419986\n",
            "420903\n",
            "421821\n",
            "422740\n",
            "423660\n",
            "424581\n",
            "425503\n",
            "426426\n",
            "427350\n",
            "428275\n",
            "429201\n",
            "430128\n",
            "431056\n",
            "431985\n",
            "432915\n",
            "433846\n",
            "434778\n",
            "435711\n",
            "436645\n",
            "437580\n",
            "438516\n",
            "439453\n",
            "440391\n",
            "441330\n",
            "442270\n",
            "443211\n",
            "444153\n",
            "445096\n",
            "446040\n",
            "446985\n",
            "447931\n",
            "448878\n",
            "449826\n",
            "450775\n",
            "451725\n",
            "452676\n",
            "453628\n",
            "454581\n",
            "455535\n",
            "456490\n",
            "457446\n",
            "458403\n",
            "459361\n",
            "460320\n",
            "461280\n",
            "462241\n",
            "463203\n",
            "464166\n",
            "465130\n",
            "466095\n",
            "467061\n",
            "468028\n",
            "468996\n",
            "469965\n",
            "470935\n",
            "471906\n",
            "472878\n",
            "473851\n",
            "474825\n",
            "475800\n",
            "476776\n",
            "477753\n",
            "478731\n",
            "479710\n",
            "480690\n",
            "481671\n",
            "482653\n",
            "483636\n",
            "484620\n",
            "485605\n",
            "486591\n",
            "487578\n",
            "488566\n",
            "489555\n",
            "490545\n",
            "491536\n",
            "492528\n",
            "493521\n",
            "494515\n",
            "495510\n",
            "496506\n",
            "497503\n",
            "498501\n",
            "499500\n",
            "500500\n"
          ]
        }
      ]
    },
    {
      "cell_type": "code",
      "source": [
        "a,b=0,1\n",
        "#列出0到1000的費事數列\n",
        "n=1000\n",
        "while a<n:\n",
        "  print(a,end=\",\")\n",
        "  a,b=b,a+b"
      ],
      "metadata": {
        "colab": {
          "base_uri": "https://localhost:8080/"
        },
        "id": "_MvJ6JlUBuMz",
        "outputId": "49eacf14-2e22-4c7d-8024-b70993655b03"
      },
      "execution_count": null,
      "outputs": [
        {
          "output_type": "stream",
          "name": "stdout",
          "text": [
            "0,1,1,2,3,5,8,13,21,34,55,89,144,233,377,610,987,"
          ]
        }
      ]
    },
    {
      "cell_type": "code",
      "source": [
        "while True:\n",
        "  user=input(\"little,let me say I love you!!\")\n",
        "  if user==\"stop\":\n",
        "    break\n",
        "  print(user)\n",
        "print(\"Ok,I don't say that!\")  "
      ],
      "metadata": {
        "colab": {
          "base_uri": "https://localhost:8080/"
        },
        "id": "J9WbAPRlDPCV",
        "outputId": "307a9429-96a2-4bac-ad3c-63ffe33cc6a8"
      },
      "execution_count": null,
      "outputs": [
        {
          "output_type": "stream",
          "name": "stdout",
          "text": [
            "little,let me say I love you!!bababa\n",
            "bababa\n",
            "little,let me say I love you!!you are suspicious!\n",
            "you are suspicious!\n",
            "little,let me say I love you!!stop\n",
            "Ok,I don't say that!\n"
          ]
        }
      ]
    },
    {
      "cell_type": "code",
      "source": [
        "for i in range(1,21):\n",
        "  if i % 6==0:\n",
        "    break\n",
        "  print(i,end=\",\")    \n"
      ],
      "metadata": {
        "colab": {
          "base_uri": "https://localhost:8080/"
        },
        "id": "U3CRCq6AGD--",
        "outputId": "e178d35b-289b-4ae8-d97e-d76ea363a0dc"
      },
      "execution_count": null,
      "outputs": [
        {
          "output_type": "stream",
          "name": "stdout",
          "text": [
            "1,2,3,4,5,"
          ]
        }
      ]
    },
    {
      "cell_type": "code",
      "source": [
        "a=6//3\n",
        "#不包含餘數\n",
        "print(a)\n"
      ],
      "metadata": {
        "colab": {
          "base_uri": "https://localhost:8080/"
        },
        "id": "A8KjbnKMH8rX",
        "outputId": "b79f421e-3aaf-4ee8-a05f-66835416a0b8"
      },
      "execution_count": null,
      "outputs": [
        {
          "output_type": "stream",
          "name": "stdout",
          "text": [
            "2\n"
          ]
        }
      ]
    },
    {
      "cell_type": "code",
      "source": [
        "t=[-3,2,3,7,15,16,19,22,28,33,37,41,42]\n",
        "for i in t: \n",
        "  if i >=30:\n",
        "    break\n",
        "  print(i,end=\",\")"
      ],
      "metadata": {
        "colab": {
          "base_uri": "https://localhost:8080/"
        },
        "id": "50EgegiSIjzl",
        "outputId": "0ca45c45-3464-4bd1-b769-08c4fba2ed9e"
      },
      "execution_count": null,
      "outputs": [
        {
          "output_type": "stream",
          "name": "stdout",
          "text": [
            "-3,2,3,7,15,16,19,22,28,"
          ]
        }
      ]
    },
    {
      "cell_type": "code",
      "source": [
        "while True:\n",
        "  user=input(\"little,let me say I love you!!\")\n",
        "  if user==\"stop\":\n",
        "    break\n",
        "  if user==\"I still want to hear\":\n",
        "    continue\n",
        "  print(user)\n",
        "print(\"Ok,I don't say\")"
      ],
      "metadata": {
        "colab": {
          "base_uri": "https://localhost:8080/"
        },
        "id": "BAyZMFwCJ-I5",
        "outputId": "19056cd5-2a49-4482-ceb0-f67e03bf3a41"
      },
      "execution_count": null,
      "outputs": [
        {
          "output_type": "stream",
          "name": "stdout",
          "text": [
            "little,let me say I love you!!yap\n",
            "yap\n",
            "little,let me say I love you!!I still want to hear\n",
            "little,let me say I love you!!stop\n",
            "Ok,I don't say\n"
          ]
        }
      ]
    },
    {
      "cell_type": "code",
      "source": [
        "for i in range(1,21):\n",
        "  if i % 6==0:\n",
        "    continue\n",
        "  print(i,end=\",\")\n"
      ],
      "metadata": {
        "colab": {
          "base_uri": "https://localhost:8080/"
        },
        "id": "QTHWaLqrLIOQ",
        "outputId": "c2a4f88c-8da0-4abd-8558-147eb8aee2aa"
      },
      "execution_count": null,
      "outputs": [
        {
          "output_type": "stream",
          "name": "stdout",
          "text": [
            "1,2,3,4,5,7,8,9,10,11,13,14,15,16,17,19,20,"
          ]
        }
      ]
    },
    {
      "cell_type": "code",
      "source": [
        "def square(x):\n",
        "  x=x**2\n",
        "  return x\n",
        "x=3\n",
        "x_sq=square(x)\n",
        "print(x_sq)\n",
        "print(x)"
      ],
      "metadata": {
        "colab": {
          "base_uri": "https://localhost:8080/"
        },
        "id": "Yi10jjpAMWsm",
        "outputId": "8c028ade-5b35-4146-c155-6dcdc96794f6"
      },
      "execution_count": null,
      "outputs": [
        {
          "output_type": "stream",
          "name": "stdout",
          "text": [
            "9\n",
            "3\n"
          ]
        }
      ]
    },
    {
      "cell_type": "code",
      "source": [
        ""
      ],
      "metadata": {
        "id": "T0ETtKRdJ00G"
      },
      "execution_count": null,
      "outputs": []
    },
    {
      "cell_type": "code",
      "source": [
        "def factor(x):\n",
        "  print(x,\"的因數有:\")\n",
        "  for i in range(1,x+1):\n",
        "      if x % i==0:\n",
        "        print(i,end=\" \")\n",
        "num=int(input(\"enter integer number\"))\n",
        "factor(num)"
      ],
      "metadata": {
        "colab": {
          "base_uri": "https://localhost:8080/"
        },
        "id": "wH9CierxN9QW",
        "outputId": "a620f324-7aaa-4f13-f483-02234b528ae9"
      },
      "execution_count": null,
      "outputs": [
        {
          "output_type": "stream",
          "name": "stdout",
          "text": [
            "enter integer number9\n",
            "9 的因數有:\n",
            "1 3 9 "
          ]
        }
      ]
    },
    {
      "cell_type": "code",
      "source": [
        "def triangle(a,h):\n",
        "  return0.5*a*h\n",
        "a=float(input(三角形的底))\n",
        "h=float(input(三角形的高))\n",
        "print(\"三角形的面積\",def)"
      ],
      "metadata": {
        "colab": {
          "base_uri": "https://localhost:8080/",
          "height": 132
        },
        "id": "vcMNp2nRPaaZ",
        "outputId": "10aba1ba-942e-443f-fcaf-74f8b927b561"
      },
      "execution_count": null,
      "outputs": [
        {
          "output_type": "error",
          "ename": "SyntaxError",
          "evalue": "ignored",
          "traceback": [
            "\u001b[0;36m  File \u001b[0;32m\"<ipython-input-77-b9a57f04aeeb>\"\u001b[0;36m, line \u001b[0;32m2\u001b[0m\n\u001b[0;31m    return0.5*a*h\u001b[0m\n\u001b[0m            ^\u001b[0m\n\u001b[0;31mSyntaxError\u001b[0m\u001b[0;31m:\u001b[0m invalid syntax\n"
          ]
        }
      ]
    },
    {
      "cell_type": "code",
      "source": [
        "%pylab inline\n",
        "def f(x):\n",
        "  return 2*x**2+3*x-5\n",
        "x=linspace(-4.4,200)\n",
        "y=f(x)\n",
        "plot(x,y)"
      ],
      "metadata": {
        "colab": {
          "base_uri": "https://localhost:8080/",
          "height": 372
        },
        "id": "CRZBtIg2RTTj",
        "outputId": "67457bae-d309-4f6e-a3fc-936758db9907"
      },
      "execution_count": null,
      "outputs": [
        {
          "output_type": "stream",
          "name": "stdout",
          "text": [
            "Populating the interactive namespace from numpy and matplotlib\n"
          ]
        },
        {
          "output_type": "stream",
          "name": "stderr",
          "text": [
            "/usr/local/lib/python3.7/dist-packages/IPython/core/magics/pylab.py:161: UserWarning: pylab import has clobbered these variables: ['f']\n",
            "`%matplotlib` prevents importing * from pylab and numpy\n",
            "  \"\\n`%matplotlib` prevents importing * from pylab and numpy\"\n"
          ]
        },
        {
          "output_type": "execute_result",
          "data": {
            "text/plain": [
              "[<matplotlib.lines.Line2D at 0x7f579606ecd0>]"
            ]
          },
          "metadata": {},
          "execution_count": 81
        },
        {
          "output_type": "display_data",
          "data": {
            "text/plain": [
              "<Figure size 432x288 with 1 Axes>"
            ],
            "image/png": "[encoded data removed]"
          },
          "metadata": {
            "needs_background": "light"
          }
        }
      ]
    },
    {
      "cell_type": "code",
      "source": [
        ""
      ],
      "metadata": {
        "id": "HfW95ScSR28L"
      },
      "execution_count": null,
      "outputs": []
    }
  ]
}